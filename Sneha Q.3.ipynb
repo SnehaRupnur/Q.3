{
 "cells": [
  {
   "cell_type": "markdown",
   "id": "5e773b74",
   "metadata": {},
   "source": [
    "# Q3. Singular Value Decomposition (SVD):\n",
    "Perform Singular Value Decomposition on the matrix A obtained in Question 2. Separate and print matrices U, Σ, and V.Verify that A equals the product of U, Σ, and 𝑉. Additionally, find the rank 2 and rank 3 approximations of matrix A."
   ]
  },
  {
   "cell_type": "code",
   "execution_count": 1,
   "id": "264f8ce2",
   "metadata": {},
   "outputs": [],
   "source": [
    "import numpy as np\n",
    "np.random.seed(40)\n",
    "A = np.random.randint(0, 10, size=(5, 5))"
   ]
  },
  {
   "cell_type": "code",
   "execution_count": 2,
   "id": "f19131f8",
   "metadata": {},
   "outputs": [
    {
     "name": "stdout",
     "output_type": "stream",
     "text": [
      "Matrix U:\n",
      "[[-0.55617931 -0.4941492  -0.29709013 -0.28075548  0.52857824]\n",
      " [-0.26157381  0.34010041 -0.43410466 -0.59834228 -0.51908623]\n",
      " [-0.37276093  0.72624079  0.35644906 -0.07214716  0.44873428]\n",
      " [-0.52156941  0.1152339  -0.33382271  0.74009572 -0.23559971]\n",
      " [-0.45962849 -0.31534701  0.6962737  -0.10107421 -0.44077756]]\n",
      "\n",
      "Matrix Sigma:\n",
      "[[26.41173173  0.          0.          0.          0.        ]\n",
      " [ 0.          8.65687304  0.          0.          0.        ]\n",
      " [ 0.          0.          4.89467506  0.          0.        ]\n",
      " [ 0.          0.          0.          3.92849576  0.        ]\n",
      " [ 0.          0.          0.          0.          1.44500974]]\n",
      "\n",
      "Matrix V:\n",
      "[[-0.48290756  0.09846333  0.76521307 -0.12584018  0.3946118 ]\n",
      " [-0.48179376 -0.20737264 -0.05539706  0.83348545 -0.16463453]\n",
      " [-0.51182567  0.74183301 -0.38774839 -0.15882789 -0.11019598]\n",
      " [-0.3194696  -0.43411729 -0.50900215 -0.19996666  0.64063368]\n",
      " [-0.4130965  -0.45664815  0.04413757 -0.47355389 -0.62818973]]\n"
     ]
    }
   ],
   "source": [
    "# Perform Singular Value Decomposition (SVD)\n",
    "U,Sigma,V_transpose = np.linalg.svd(A)\n",
    "Sigma_mat = np.zeros_like(A, dtype=float)\n",
    "Sigma_mat[:min(A.shape[0], A.shape[1]), :min(A.shape[0], A.shape[1])] = np.diag(Sigma)\n",
    "print(\"Matrix U:\")\n",
    "print(U)\n",
    "print(\"\\nMatrix Sigma:\")\n",
    "print(Sigma_mat)\n",
    "print(\"\\nMatrix V:\")\n",
    "print(V_transpose.T)"
   ]
  },
  {
   "cell_type": "code",
   "execution_count": 3,
   "id": "a9708970",
   "metadata": {},
   "outputs": [
    {
     "name": "stdout",
     "output_type": "stream",
     "text": [
      "Verification that A equals the product of U, Sigma, and V:\n",
      "True\n"
     ]
    }
   ],
   "source": [
    "A_reconstructed = np.dot(U, np.dot(Sigma_mat, V_transpose))\n",
    "print(\"Verification that A equals the product of U, Sigma, and V:\")\n",
    "print(np.allclose(A, A_reconstructed))"
   ]
  },
  {
   "cell_type": "code",
   "execution_count": null,
   "id": "15fa46cd",
   "metadata": {},
   "outputs": [],
   "source": []
  }
 ],
 "metadata": {
  "kernelspec": {
   "display_name": "Python 3 (ipykernel)",
   "language": "python",
   "name": "python3"
  },
  "language_info": {
   "codemirror_mode": {
    "name": "ipython",
    "version": 3
   },
   "file_extension": ".py",
   "mimetype": "text/x-python",
   "name": "python",
   "nbconvert_exporter": "python",
   "pygments_lexer": "ipython3",
   "version": "3.11.5"
  }
 },
 "nbformat": 4,
 "nbformat_minor": 5
}
